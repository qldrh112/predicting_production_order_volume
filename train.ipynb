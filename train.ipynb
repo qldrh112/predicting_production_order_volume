{
 "cells": [
  {
   "cell_type": "markdown",
   "id": "22484254",
   "metadata": {},
   "source": [
    "# LangChain과 Gemini를 활용한 데이터 분석 에이전트\n",
    "\n",
    "이 노트북에서는 LangChain과 Gemini를 활용한 데이터 분석 에이전트의 구현 및 사용 방법을 설명합니다."
   ]
  },
  {
   "cell_type": "code",
   "execution_count": 9,
   "id": "e9564483",
   "metadata": {
    "vscode": {
     "languageId": "powershell"
    }
   },
   "outputs": [
    {
     "name": "stdout",
     "output_type": "stream",
     "text": [
      "Requirement already satisfied: langgraph in c:\\users\\user\\downloads\\langgraph\\.venv\\lib\\site-packages (0.6.5)\n",
      "Requirement already satisfied: langchain-core>=0.1 in c:\\users\\user\\downloads\\langgraph\\.venv\\lib\\site-packages (from langgraph) (0.3.74)\n",
      "Requirement already satisfied: langgraph-checkpoint<3.0.0,>=2.1.0 in c:\\users\\user\\downloads\\langgraph\\.venv\\lib\\site-packages (from langgraph) (2.1.1)\n",
      "Requirement already satisfied: langgraph-prebuilt<0.7.0,>=0.6.0 in c:\\users\\user\\downloads\\langgraph\\.venv\\lib\\site-packages (from langgraph) (0.6.4)\n",
      "Requirement already satisfied: langgraph-sdk<0.3.0,>=0.2.0 in c:\\users\\user\\downloads\\langgraph\\.venv\\lib\\site-packages (from langgraph) (0.2.0)\n",
      "Requirement already satisfied: pydantic>=2.7.4 in c:\\users\\user\\downloads\\langgraph\\.venv\\lib\\site-packages (from langgraph) (2.11.7)\n",
      "Requirement already satisfied: xxhash>=3.5.0 in c:\\users\\user\\downloads\\langgraph\\.venv\\lib\\site-packages (from langgraph) (3.5.0)\n",
      "Requirement already satisfied: ormsgpack>=1.10.0 in c:\\users\\user\\downloads\\langgraph\\.venv\\lib\\site-packages (from langgraph-checkpoint<3.0.0,>=2.1.0->langgraph) (1.10.0)\n",
      "Requirement already satisfied: httpx>=0.25.2 in c:\\users\\user\\downloads\\langgraph\\.venv\\lib\\site-packages (from langgraph-sdk<0.3.0,>=0.2.0->langgraph) (0.28.1)\n",
      "Requirement already satisfied: orjson>=3.10.1 in c:\\users\\user\\downloads\\langgraph\\.venv\\lib\\site-packages (from langgraph-sdk<0.3.0,>=0.2.0->langgraph) (3.11.2)\n",
      "Requirement already satisfied: anyio in c:\\users\\user\\downloads\\langgraph\\.venv\\lib\\site-packages (from httpx>=0.25.2->langgraph-sdk<0.3.0,>=0.2.0->langgraph) (4.10.0)\n",
      "Requirement already satisfied: certifi in c:\\users\\user\\downloads\\langgraph\\.venv\\lib\\site-packages (from httpx>=0.25.2->langgraph-sdk<0.3.0,>=0.2.0->langgraph) (2025.8.3)\n",
      "Requirement already satisfied: httpcore==1.* in c:\\users\\user\\downloads\\langgraph\\.venv\\lib\\site-packages (from httpx>=0.25.2->langgraph-sdk<0.3.0,>=0.2.0->langgraph) (1.0.9)\n",
      "Requirement already satisfied: idna in c:\\users\\user\\downloads\\langgraph\\.venv\\lib\\site-packages (from httpx>=0.25.2->langgraph-sdk<0.3.0,>=0.2.0->langgraph) (3.10)\n",
      "Requirement already satisfied: h11>=0.16 in c:\\users\\user\\downloads\\langgraph\\.venv\\lib\\site-packages (from httpcore==1.*->httpx>=0.25.2->langgraph-sdk<0.3.0,>=0.2.0->langgraph) (0.16.0)\n",
      "Requirement already satisfied: langsmith>=0.3.45 in c:\\users\\user\\downloads\\langgraph\\.venv\\lib\\site-packages (from langchain-core>=0.1->langgraph) (0.4.14)\n",
      "Requirement already satisfied: tenacity!=8.4.0,<10.0.0,>=8.1.0 in c:\\users\\user\\downloads\\langgraph\\.venv\\lib\\site-packages (from langchain-core>=0.1->langgraph) (9.1.2)\n",
      "Requirement already satisfied: jsonpatch<2.0,>=1.33 in c:\\users\\user\\downloads\\langgraph\\.venv\\lib\\site-packages (from langchain-core>=0.1->langgraph) (1.33)\n",
      "Requirement already satisfied: PyYAML>=5.3 in c:\\users\\user\\downloads\\langgraph\\.venv\\lib\\site-packages (from langchain-core>=0.1->langgraph) (6.0.2)\n",
      "Requirement already satisfied: typing-extensions>=4.7 in c:\\users\\user\\downloads\\langgraph\\.venv\\lib\\site-packages (from langchain-core>=0.1->langgraph) (4.14.1)\n",
      "Requirement already satisfied: packaging>=23.2 in c:\\users\\user\\downloads\\langgraph\\.venv\\lib\\site-packages (from langchain-core>=0.1->langgraph) (25.0)\n",
      "Requirement already satisfied: jsonpointer>=1.9 in c:\\users\\user\\downloads\\langgraph\\.venv\\lib\\site-packages (from jsonpatch<2.0,>=1.33->langchain-core>=0.1->langgraph) (3.0.0)\n",
      "Requirement already satisfied: requests-toolbelt>=1.0.0 in c:\\users\\user\\downloads\\langgraph\\.venv\\lib\\site-packages (from langsmith>=0.3.45->langchain-core>=0.1->langgraph) (1.0.0)\n",
      "Requirement already satisfied: requests>=2.0.0 in c:\\users\\user\\downloads\\langgraph\\.venv\\lib\\site-packages (from langsmith>=0.3.45->langchain-core>=0.1->langgraph) (2.32.4)\n",
      "Requirement already satisfied: zstandard>=0.23.0 in c:\\users\\user\\downloads\\langgraph\\.venv\\lib\\site-packages (from langsmith>=0.3.45->langchain-core>=0.1->langgraph) (0.23.0)\n",
      "Requirement already satisfied: annotated-types>=0.6.0 in c:\\users\\user\\downloads\\langgraph\\.venv\\lib\\site-packages (from pydantic>=2.7.4->langgraph) (0.7.0)\n",
      "Requirement already satisfied: pydantic-core==2.33.2 in c:\\users\\user\\downloads\\langgraph\\.venv\\lib\\site-packages (from pydantic>=2.7.4->langgraph) (2.33.2)\n",
      "Requirement already satisfied: typing-inspection>=0.4.0 in c:\\users\\user\\downloads\\langgraph\\.venv\\lib\\site-packages (from pydantic>=2.7.4->langgraph) (0.4.1)\n",
      "Requirement already satisfied: charset_normalizer<4,>=2 in c:\\users\\user\\downloads\\langgraph\\.venv\\lib\\site-packages (from requests>=2.0.0->langsmith>=0.3.45->langchain-core>=0.1->langgraph) (3.4.3)\n",
      "Requirement already satisfied: urllib3<3,>=1.21.1 in c:\\users\\user\\downloads\\langgraph\\.venv\\lib\\site-packages (from requests>=2.0.0->langsmith>=0.3.45->langchain-core>=0.1->langgraph) (2.5.0)\n",
      "Requirement already satisfied: sniffio>=1.1 in c:\\users\\user\\downloads\\langgraph\\.venv\\lib\\site-packages (from anyio->httpx>=0.25.2->langgraph-sdk<0.3.0,>=0.2.0->langgraph) (1.3.1)\n",
      "Note: you may need to restart the kernel to use updated packages.\n"
     ]
    }
   ],
   "source": [
    "%pip install langgraph"
   ]
  },
  {
   "cell_type": "code",
   "execution_count": 10,
   "id": "1be005ce",
   "metadata": {
    "vscode": {
     "languageId": "powershell"
    }
   },
   "outputs": [
    {
     "name": "stdout",
     "output_type": "stream",
     "text": [
      "Requirement already satisfied: langchain in c:\\users\\user\\downloads\\langgraph\\.venv\\lib\\site-packages (0.3.27)\n",
      "Requirement already satisfied: langchain-core<1.0.0,>=0.3.72 in c:\\users\\user\\downloads\\langgraph\\.venv\\lib\\site-packages (from langchain) (0.3.74)\n",
      "Requirement already satisfied: langchain-text-splitters<1.0.0,>=0.3.9 in c:\\users\\user\\downloads\\langgraph\\.venv\\lib\\site-packages (from langchain) (0.3.9)\n",
      "Requirement already satisfied: langsmith>=0.1.17 in c:\\users\\user\\downloads\\langgraph\\.venv\\lib\\site-packages (from langchain) (0.4.14)\n",
      "Requirement already satisfied: pydantic<3.0.0,>=2.7.4 in c:\\users\\user\\downloads\\langgraph\\.venv\\lib\\site-packages (from langchain) (2.11.7)\n",
      "Requirement already satisfied: SQLAlchemy<3,>=1.4 in c:\\users\\user\\downloads\\langgraph\\.venv\\lib\\site-packages (from langchain) (2.0.43)\n",
      "Requirement already satisfied: requests<3,>=2 in c:\\users\\user\\downloads\\langgraph\\.venv\\lib\\site-packages (from langchain) (2.32.4)\n",
      "Requirement already satisfied: PyYAML>=5.3 in c:\\users\\user\\downloads\\langgraph\\.venv\\lib\\site-packages (from langchain) (6.0.2)\n",
      "Requirement already satisfied: tenacity!=8.4.0,<10.0.0,>=8.1.0 in c:\\users\\user\\downloads\\langgraph\\.venv\\lib\\site-packages (from langchain-core<1.0.0,>=0.3.72->langchain) (9.1.2)\n",
      "Requirement already satisfied: jsonpatch<2.0,>=1.33 in c:\\users\\user\\downloads\\langgraph\\.venv\\lib\\site-packages (from langchain-core<1.0.0,>=0.3.72->langchain) (1.33)\n",
      "Requirement already satisfied: typing-extensions>=4.7 in c:\\users\\user\\downloads\\langgraph\\.venv\\lib\\site-packages (from langchain-core<1.0.0,>=0.3.72->langchain) (4.14.1)\n",
      "Requirement already satisfied: packaging>=23.2 in c:\\users\\user\\downloads\\langgraph\\.venv\\lib\\site-packages (from langchain-core<1.0.0,>=0.3.72->langchain) (25.0)\n",
      "Requirement already satisfied: jsonpointer>=1.9 in c:\\users\\user\\downloads\\langgraph\\.venv\\lib\\site-packages (from jsonpatch<2.0,>=1.33->langchain-core<1.0.0,>=0.3.72->langchain) (3.0.0)\n",
      "Requirement already satisfied: annotated-types>=0.6.0 in c:\\users\\user\\downloads\\langgraph\\.venv\\lib\\site-packages (from pydantic<3.0.0,>=2.7.4->langchain) (0.7.0)\n",
      "Requirement already satisfied: pydantic-core==2.33.2 in c:\\users\\user\\downloads\\langgraph\\.venv\\lib\\site-packages (from pydantic<3.0.0,>=2.7.4->langchain) (2.33.2)\n",
      "Requirement already satisfied: typing-inspection>=0.4.0 in c:\\users\\user\\downloads\\langgraph\\.venv\\lib\\site-packages (from pydantic<3.0.0,>=2.7.4->langchain) (0.4.1)\n",
      "Requirement already satisfied: charset_normalizer<4,>=2 in c:\\users\\user\\downloads\\langgraph\\.venv\\lib\\site-packages (from requests<3,>=2->langchain) (3.4.3)\n",
      "Requirement already satisfied: idna<4,>=2.5 in c:\\users\\user\\downloads\\langgraph\\.venv\\lib\\site-packages (from requests<3,>=2->langchain) (3.10)\n",
      "Requirement already satisfied: urllib3<3,>=1.21.1 in c:\\users\\user\\downloads\\langgraph\\.venv\\lib\\site-packages (from requests<3,>=2->langchain) (2.5.0)\n",
      "Requirement already satisfied: certifi>=2017.4.17 in c:\\users\\user\\downloads\\langgraph\\.venv\\lib\\site-packages (from requests<3,>=2->langchain) (2025.8.3)\n",
      "Requirement already satisfied: greenlet>=1 in c:\\users\\user\\downloads\\langgraph\\.venv\\lib\\site-packages (from SQLAlchemy<3,>=1.4->langchain) (3.2.4)\n",
      "Requirement already satisfied: httpx<1,>=0.23.0 in c:\\users\\user\\downloads\\langgraph\\.venv\\lib\\site-packages (from langsmith>=0.1.17->langchain) (0.28.1)\n",
      "Requirement already satisfied: orjson>=3.9.14 in c:\\users\\user\\downloads\\langgraph\\.venv\\lib\\site-packages (from langsmith>=0.1.17->langchain) (3.11.2)\n",
      "Requirement already satisfied: requests-toolbelt>=1.0.0 in c:\\users\\user\\downloads\\langgraph\\.venv\\lib\\site-packages (from langsmith>=0.1.17->langchain) (1.0.0)\n",
      "Requirement already satisfied: zstandard>=0.23.0 in c:\\users\\user\\downloads\\langgraph\\.venv\\lib\\site-packages (from langsmith>=0.1.17->langchain) (0.23.0)\n",
      "Requirement already satisfied: anyio in c:\\users\\user\\downloads\\langgraph\\.venv\\lib\\site-packages (from httpx<1,>=0.23.0->langsmith>=0.1.17->langchain) (4.10.0)\n",
      "Requirement already satisfied: httpcore==1.* in c:\\users\\user\\downloads\\langgraph\\.venv\\lib\\site-packages (from httpx<1,>=0.23.0->langsmith>=0.1.17->langchain) (1.0.9)\n",
      "Requirement already satisfied: h11>=0.16 in c:\\users\\user\\downloads\\langgraph\\.venv\\lib\\site-packages (from httpcore==1.*->httpx<1,>=0.23.0->langsmith>=0.1.17->langchain) (0.16.0)\n",
      "Requirement already satisfied: sniffio>=1.1 in c:\\users\\user\\downloads\\langgraph\\.venv\\lib\\site-packages (from anyio->httpx<1,>=0.23.0->langsmith>=0.1.17->langchain) (1.3.1)\n",
      "Note: you may need to restart the kernel to use updated packages.\n"
     ]
    }
   ],
   "source": [
    "%pip install langchain"
   ]
  },
  {
   "cell_type": "code",
   "execution_count": null,
   "id": "2d67d08e",
   "metadata": {},
   "outputs": [
    {
     "name": "stdout",
     "output_type": "stream",
     "text": [
      "LangGraph successfully installed!\n"
     ]
    }
   ],
   "source": [
    "from langgraph.graph import StateGraph\n",
    "\n",
    "print('LangGraph successfully installed!')"
   ]
  },
  {
   "cell_type": "code",
   "execution_count": 8,
   "id": "8bac2fb4",
   "metadata": {
    "vscode": {
     "languageId": "bat"
    }
   },
   "outputs": [
    {
     "name": "stdout",
     "output_type": "stream",
     "text": [
      "Requirement already satisfied: langchain-google-genai in c:\\users\\user\\downloads\\langgraph\\.venv\\lib\\site-packages (2.1.9)\n",
      "Collecting python-dotenv\n",
      "  Downloading python_dotenv-1.1.1-py3-none-any.whl.metadata (24 kB)\n",
      "Requirement already satisfied: filetype<2.0.0,>=1.2.0 in c:\\users\\user\\downloads\\langgraph\\.venv\\lib\\site-packages (from langchain-google-genai) (1.2.0)\n",
      "Requirement already satisfied: google-ai-generativelanguage<0.7.0,>=0.6.18 in c:\\users\\user\\downloads\\langgraph\\.venv\\lib\\site-packages (from langchain-google-genai) (0.6.18)\n",
      "Requirement already satisfied: langchain-core<0.4.0,>=0.3.68 in c:\\users\\user\\downloads\\langgraph\\.venv\\lib\\site-packages (from langchain-google-genai) (0.3.74)\n",
      "Requirement already satisfied: pydantic<3,>=2 in c:\\users\\user\\downloads\\langgraph\\.venv\\lib\\site-packages (from langchain-google-genai) (2.11.7)\n",
      "Requirement already satisfied: google-api-core!=2.0.*,!=2.1.*,!=2.10.*,!=2.2.*,!=2.3.*,!=2.4.*,!=2.5.*,!=2.6.*,!=2.7.*,!=2.8.*,!=2.9.*,<3.0.0,>=1.34.1 in c:\\users\\user\\downloads\\langgraph\\.venv\\lib\\site-packages (from google-api-core[grpc]!=2.0.*,!=2.1.*,!=2.10.*,!=2.2.*,!=2.3.*,!=2.4.*,!=2.5.*,!=2.6.*,!=2.7.*,!=2.8.*,!=2.9.*,<3.0.0,>=1.34.1->google-ai-generativelanguage<0.7.0,>=0.6.18->langchain-google-genai) (2.25.1)\n",
      "Requirement already satisfied: google-auth!=2.24.0,!=2.25.0,<3.0.0,>=2.14.1 in c:\\users\\user\\downloads\\langgraph\\.venv\\lib\\site-packages (from google-ai-generativelanguage<0.7.0,>=0.6.18->langchain-google-genai) (2.40.3)\n",
      "Requirement already satisfied: proto-plus<2.0.0,>=1.22.3 in c:\\users\\user\\downloads\\langgraph\\.venv\\lib\\site-packages (from google-ai-generativelanguage<0.7.0,>=0.6.18->langchain-google-genai) (1.26.1)\n",
      "Requirement already satisfied: protobuf!=4.21.0,!=4.21.1,!=4.21.2,!=4.21.3,!=4.21.4,!=4.21.5,<7.0.0,>=3.20.2 in c:\\users\\user\\downloads\\langgraph\\.venv\\lib\\site-packages (from google-ai-generativelanguage<0.7.0,>=0.6.18->langchain-google-genai) (6.32.0)\n",
      "Requirement already satisfied: googleapis-common-protos<2.0.0,>=1.56.2 in c:\\users\\user\\downloads\\langgraph\\.venv\\lib\\site-packages (from google-api-core!=2.0.*,!=2.1.*,!=2.10.*,!=2.2.*,!=2.3.*,!=2.4.*,!=2.5.*,!=2.6.*,!=2.7.*,!=2.8.*,!=2.9.*,<3.0.0,>=1.34.1->google-api-core[grpc]!=2.0.*,!=2.1.*,!=2.10.*,!=2.2.*,!=2.3.*,!=2.4.*,!=2.5.*,!=2.6.*,!=2.7.*,!=2.8.*,!=2.9.*,<3.0.0,>=1.34.1->google-ai-generativelanguage<0.7.0,>=0.6.18->langchain-google-genai) (1.70.0)\n",
      "Requirement already satisfied: requests<3.0.0,>=2.18.0 in c:\\users\\user\\downloads\\langgraph\\.venv\\lib\\site-packages (from google-api-core!=2.0.*,!=2.1.*,!=2.10.*,!=2.2.*,!=2.3.*,!=2.4.*,!=2.5.*,!=2.6.*,!=2.7.*,!=2.8.*,!=2.9.*,<3.0.0,>=1.34.1->google-api-core[grpc]!=2.0.*,!=2.1.*,!=2.10.*,!=2.2.*,!=2.3.*,!=2.4.*,!=2.5.*,!=2.6.*,!=2.7.*,!=2.8.*,!=2.9.*,<3.0.0,>=1.34.1->google-ai-generativelanguage<0.7.0,>=0.6.18->langchain-google-genai) (2.32.4)\n",
      "Requirement already satisfied: grpcio<2.0.0,>=1.33.2 in c:\\users\\user\\downloads\\langgraph\\.venv\\lib\\site-packages (from google-api-core[grpc]!=2.0.*,!=2.1.*,!=2.10.*,!=2.2.*,!=2.3.*,!=2.4.*,!=2.5.*,!=2.6.*,!=2.7.*,!=2.8.*,!=2.9.*,<3.0.0,>=1.34.1->google-ai-generativelanguage<0.7.0,>=0.6.18->langchain-google-genai) (1.74.0)\n",
      "Requirement already satisfied: grpcio-status<2.0.0,>=1.33.2 in c:\\users\\user\\downloads\\langgraph\\.venv\\lib\\site-packages (from google-api-core[grpc]!=2.0.*,!=2.1.*,!=2.10.*,!=2.2.*,!=2.3.*,!=2.4.*,!=2.5.*,!=2.6.*,!=2.7.*,!=2.8.*,!=2.9.*,<3.0.0,>=1.34.1->google-ai-generativelanguage<0.7.0,>=0.6.18->langchain-google-genai) (1.74.0)\n",
      "Requirement already satisfied: cachetools<6.0,>=2.0.0 in c:\\users\\user\\downloads\\langgraph\\.venv\\lib\\site-packages (from google-auth!=2.24.0,!=2.25.0,<3.0.0,>=2.14.1->google-ai-generativelanguage<0.7.0,>=0.6.18->langchain-google-genai) (5.5.2)\n",
      "Requirement already satisfied: pyasn1-modules>=0.2.1 in c:\\users\\user\\downloads\\langgraph\\.venv\\lib\\site-packages (from google-auth!=2.24.0,!=2.25.0,<3.0.0,>=2.14.1->google-ai-generativelanguage<0.7.0,>=0.6.18->langchain-google-genai) (0.4.2)\n",
      "Requirement already satisfied: rsa<5,>=3.1.4 in c:\\users\\user\\downloads\\langgraph\\.venv\\lib\\site-packages (from google-auth!=2.24.0,!=2.25.0,<3.0.0,>=2.14.1->google-ai-generativelanguage<0.7.0,>=0.6.18->langchain-google-genai) (4.9.1)\n",
      "Requirement already satisfied: langsmith>=0.3.45 in c:\\users\\user\\downloads\\langgraph\\.venv\\lib\\site-packages (from langchain-core<0.4.0,>=0.3.68->langchain-google-genai) (0.4.14)\n",
      "Requirement already satisfied: tenacity!=8.4.0,<10.0.0,>=8.1.0 in c:\\users\\user\\downloads\\langgraph\\.venv\\lib\\site-packages (from langchain-core<0.4.0,>=0.3.68->langchain-google-genai) (9.1.2)\n",
      "Requirement already satisfied: jsonpatch<2.0,>=1.33 in c:\\users\\user\\downloads\\langgraph\\.venv\\lib\\site-packages (from langchain-core<0.4.0,>=0.3.68->langchain-google-genai) (1.33)\n",
      "Requirement already satisfied: PyYAML>=5.3 in c:\\users\\user\\downloads\\langgraph\\.venv\\lib\\site-packages (from langchain-core<0.4.0,>=0.3.68->langchain-google-genai) (6.0.2)\n",
      "Requirement already satisfied: typing-extensions>=4.7 in c:\\users\\user\\downloads\\langgraph\\.venv\\lib\\site-packages (from langchain-core<0.4.0,>=0.3.68->langchain-google-genai) (4.14.1)\n",
      "Requirement already satisfied: packaging>=23.2 in c:\\users\\user\\downloads\\langgraph\\.venv\\lib\\site-packages (from langchain-core<0.4.0,>=0.3.68->langchain-google-genai) (25.0)\n",
      "Requirement already satisfied: jsonpointer>=1.9 in c:\\users\\user\\downloads\\langgraph\\.venv\\lib\\site-packages (from jsonpatch<2.0,>=1.33->langchain-core<0.4.0,>=0.3.68->langchain-google-genai) (3.0.0)\n",
      "Requirement already satisfied: annotated-types>=0.6.0 in c:\\users\\user\\downloads\\langgraph\\.venv\\lib\\site-packages (from pydantic<3,>=2->langchain-google-genai) (0.7.0)\n",
      "Requirement already satisfied: pydantic-core==2.33.2 in c:\\users\\user\\downloads\\langgraph\\.venv\\lib\\site-packages (from pydantic<3,>=2->langchain-google-genai) (2.33.2)\n",
      "Requirement already satisfied: typing-inspection>=0.4.0 in c:\\users\\user\\downloads\\langgraph\\.venv\\lib\\site-packages (from pydantic<3,>=2->langchain-google-genai) (0.4.1)\n",
      "Requirement already satisfied: charset_normalizer<4,>=2 in c:\\users\\user\\downloads\\langgraph\\.venv\\lib\\site-packages (from requests<3.0.0,>=2.18.0->google-api-core!=2.0.*,!=2.1.*,!=2.10.*,!=2.2.*,!=2.3.*,!=2.4.*,!=2.5.*,!=2.6.*,!=2.7.*,!=2.8.*,!=2.9.*,<3.0.0,>=1.34.1->google-api-core[grpc]!=2.0.*,!=2.1.*,!=2.10.*,!=2.2.*,!=2.3.*,!=2.4.*,!=2.5.*,!=2.6.*,!=2.7.*,!=2.8.*,!=2.9.*,<3.0.0,>=1.34.1->google-ai-generativelanguage<0.7.0,>=0.6.18->langchain-google-genai) (3.4.3)\n",
      "Requirement already satisfied: idna<4,>=2.5 in c:\\users\\user\\downloads\\langgraph\\.venv\\lib\\site-packages (from requests<3.0.0,>=2.18.0->google-api-core!=2.0.*,!=2.1.*,!=2.10.*,!=2.2.*,!=2.3.*,!=2.4.*,!=2.5.*,!=2.6.*,!=2.7.*,!=2.8.*,!=2.9.*,<3.0.0,>=1.34.1->google-api-core[grpc]!=2.0.*,!=2.1.*,!=2.10.*,!=2.2.*,!=2.3.*,!=2.4.*,!=2.5.*,!=2.6.*,!=2.7.*,!=2.8.*,!=2.9.*,<3.0.0,>=1.34.1->google-ai-generativelanguage<0.7.0,>=0.6.18->langchain-google-genai) (3.10)\n",
      "Requirement already satisfied: urllib3<3,>=1.21.1 in c:\\users\\user\\downloads\\langgraph\\.venv\\lib\\site-packages (from requests<3.0.0,>=2.18.0->google-api-core!=2.0.*,!=2.1.*,!=2.10.*,!=2.2.*,!=2.3.*,!=2.4.*,!=2.5.*,!=2.6.*,!=2.7.*,!=2.8.*,!=2.9.*,<3.0.0,>=1.34.1->google-api-core[grpc]!=2.0.*,!=2.1.*,!=2.10.*,!=2.2.*,!=2.3.*,!=2.4.*,!=2.5.*,!=2.6.*,!=2.7.*,!=2.8.*,!=2.9.*,<3.0.0,>=1.34.1->google-ai-generativelanguage<0.7.0,>=0.6.18->langchain-google-genai) (2.5.0)\n",
      "Requirement already satisfied: certifi>=2017.4.17 in c:\\users\\user\\downloads\\langgraph\\.venv\\lib\\site-packages (from requests<3.0.0,>=2.18.0->google-api-core!=2.0.*,!=2.1.*,!=2.10.*,!=2.2.*,!=2.3.*,!=2.4.*,!=2.5.*,!=2.6.*,!=2.7.*,!=2.8.*,!=2.9.*,<3.0.0,>=1.34.1->google-api-core[grpc]!=2.0.*,!=2.1.*,!=2.10.*,!=2.2.*,!=2.3.*,!=2.4.*,!=2.5.*,!=2.6.*,!=2.7.*,!=2.8.*,!=2.9.*,<3.0.0,>=1.34.1->google-ai-generativelanguage<0.7.0,>=0.6.18->langchain-google-genai) (2025.8.3)\n",
      "Requirement already satisfied: pyasn1>=0.1.3 in c:\\users\\user\\downloads\\langgraph\\.venv\\lib\\site-packages (from rsa<5,>=3.1.4->google-auth!=2.24.0,!=2.25.0,<3.0.0,>=2.14.1->google-ai-generativelanguage<0.7.0,>=0.6.18->langchain-google-genai) (0.6.1)\n",
      "Requirement already satisfied: httpx<1,>=0.23.0 in c:\\users\\user\\downloads\\langgraph\\.venv\\lib\\site-packages (from langsmith>=0.3.45->langchain-core<0.4.0,>=0.3.68->langchain-google-genai) (0.28.1)\n",
      "Requirement already satisfied: orjson>=3.9.14 in c:\\users\\user\\downloads\\langgraph\\.venv\\lib\\site-packages (from langsmith>=0.3.45->langchain-core<0.4.0,>=0.3.68->langchain-google-genai) (3.11.2)\n",
      "Requirement already satisfied: requests-toolbelt>=1.0.0 in c:\\users\\user\\downloads\\langgraph\\.venv\\lib\\site-packages (from langsmith>=0.3.45->langchain-core<0.4.0,>=0.3.68->langchain-google-genai) (1.0.0)\n",
      "Requirement already satisfied: zstandard>=0.23.0 in c:\\users\\user\\downloads\\langgraph\\.venv\\lib\\site-packages (from langsmith>=0.3.45->langchain-core<0.4.0,>=0.3.68->langchain-google-genai) (0.23.0)\n",
      "Requirement already satisfied: anyio in c:\\users\\user\\downloads\\langgraph\\.venv\\lib\\site-packages (from httpx<1,>=0.23.0->langsmith>=0.3.45->langchain-core<0.4.0,>=0.3.68->langchain-google-genai) (4.10.0)\n",
      "Requirement already satisfied: httpcore==1.* in c:\\users\\user\\downloads\\langgraph\\.venv\\lib\\site-packages (from httpx<1,>=0.23.0->langsmith>=0.3.45->langchain-core<0.4.0,>=0.3.68->langchain-google-genai) (1.0.9)\n",
      "Requirement already satisfied: h11>=0.16 in c:\\users\\user\\downloads\\langgraph\\.venv\\lib\\site-packages (from httpcore==1.*->httpx<1,>=0.23.0->langsmith>=0.3.45->langchain-core<0.4.0,>=0.3.68->langchain-google-genai) (0.16.0)\n",
      "Requirement already satisfied: sniffio>=1.1 in c:\\users\\user\\downloads\\langgraph\\.venv\\lib\\site-packages (from anyio->httpx<1,>=0.23.0->langsmith>=0.3.45->langchain-core<0.4.0,>=0.3.68->langchain-google-genai) (1.3.1)\n",
      "Downloading python_dotenv-1.1.1-py3-none-any.whl (20 kB)\n",
      "Installing collected packages: python-dotenv\n",
      "Successfully installed python-dotenv-1.1.1\n",
      "Note: you may need to restart the kernel to use updated packages.\n"
     ]
    }
   ],
   "source": [
    "# 나는 가난뱅이니까 무료 api를 제공하는 gemini를 사용한다. \n",
    "%pip install langchain-google-genai python-dotenv"
   ]
  },
  {
   "cell_type": "code",
   "execution_count": 12,
   "id": "43a88b4d",
   "metadata": {},
   "outputs": [
    {
     "name": "stdout",
     "output_type": "stream",
     "text": [
      "마법의 소라고동께서 가로되 content='## 박대원의 삼일회계법인 입사 가능성 예측 모델\\n\\n박대원이 2년 안에 삼일회계법인(이하 삼일)에 입사할 수 있을지 예측하기 위해 다양한 요소를 고려한 모델을 제시합니다. 이 모델은 다음과 같은 단계로 구성됩니다.\\n\\n**1. 데이터 수집 및 분석:**\\n\\n*   **필요 데이터:**\\n    *   **박대원 관련 데이터:**\\n        *   학력: 대학/전공 (경영, 회계, 경제 등 관련 전공 우대), 학점, 졸업 예정일\\n        *   자격증: CPA, AICPA, 기타 관련 자격증 (IFRS 전문가 등) 취득 여부 및 취득 시점\\n        *   경험: 인턴십 (삼일, 기타 회계법인, 관련 기업), 아르바이트, 동아리 활동, 리더십 경험, 봉사활동 등\\n        *   어학 능력: 토익, 토플, 오픽, 토익스피킹 점수 (영어 능력 중요)\\n        *   면접 준비: 스터디 참여 여부, 모의 면접 경험, 면접 예상 질문 대비 수준\\n        *   자기소개서: 작성 경험, 피드백 반영 여부, 완성도\\n        *   기타: 개인적인 강점, 특기, 삼일 입사에 대한 열정 등\\n    *   **삼일 관련 데이터:**\\n        *   채용 공고 분석: 채용 규모, 채용 시기, 채용 기준 변화 추이\\n        *   합격자 데이터 분석: 합격자들의 학력, 자격증, 경험, 어학 능력 등 (익명화된 데이터 활용)\\n        *   업계 동향: 회계 감사 시장의 변화, 삼일의 경쟁 환경 (딜로이트, EY, KPMG, PwC)\\n        *   경제 상황: 국내외 경제 상황 (취업 시장에 미치는 영향)\\n\\n*   **데이터 분석 방법:**\\n    *   **기술 통계 분석:** 각 변수별 평균, 표준편차, 빈도 분석 등을 통해 기본적인 특징 파악\\n    *   **상관관계 분석:** 각 변수 간의 상관관계 분석 (예: 학점과 CPA 합격 간의 상관관계)\\n    *   **회귀 분석:** 종속 변수(입사 성공 여부)에 영향을 미치는 독립 변수(학력, 자격증, 경험 등) 파악 및 예측 모델 구축\\n    *   **머신러닝 모델:**\\n        *   **로지스틱 회귀:** 이진 분류 문제 (입사 성공/실패)에 적합하며, 해석이 용이함\\n        *   **의사 결정 트리/랜덤 포레스트:** 복잡한 관계를 파악하고, 변수 중요도를 파악하는데 유용\\n        *   **SVM (Support Vector Machine):** 고차원 데이터에서 효과적인 분류를 수행\\n        *   **신경망 (Neural Network):** 딥러닝 기술을 활용하여 더욱 복잡한 패턴 학습 가능\\n\\n**2. 모델 구축:**\\n\\n*   **특징 선택:** 관련성이 높은 변수들을 선택하여 모델의 정확도를 높이고, 과적합을 방지\\n*   **데이터 분할:** 데이터를 훈련 데이터, 검증 데이터, 테스트 데이터로 분할\\n*   **모델 훈련:** 훈련 데이터를 사용하여 선택된 머신러닝 모델 훈련\\n*   **모델 검증:** 검증 데이터를 사용하여 모델의 성능 평가 (정확도, 정밀도, 재현율, F1-score 등)\\n*   **모델 튜닝:** 하이퍼파라미터 튜닝, 특징 엔지니어링 등을 통해 모델 성능 개선\\n*   **모델 평가:** 테스트 데이터를 사용하여 최종 모델 성능 평가\\n\\n**3. 예측 및 결과 해석:**\\n\\n*   **박대원 데이터 입력:** 박대원의 학력, 자격증, 경험 등 관련 정보를 모델에 입력\\n*   **예측 결과:** 모델은 박대원의 삼일 입사 가능성을 확률로 제시 (예: 70%의 확률로 2년 안에 삼일 입사 가능)\\n*   **결과 해석:**\\n    *   **높은 확률:** 삼일 입사 가능성이 높으며, 면접 준비에 집중하고, 부족한 부분을 보완하는 전략 수립\\n    *   **중간 확률:** 추가적인 노력이 필요하며, 강점을 부각하고, 약점을 보완하는 전략 수립 (예: CPA 합격, 인턴십 경험 확보 등)\\n    *   **낮은 확률:** 입사 가능성이 낮으며, 목표 재설정, 다른 회계법인 또는 관련 기업 탐색 고려, 부족한 부분을 집중적으로 보완 (예: 어학 능력 향상, 관련 경험 확보)\\n\\n**4. 지속적인 관리 및 개선:**\\n\\n*   **모델 업데이트:** 새로운 데이터 (삼일 채용 변화, 박대원의 스펙 변화 등)를 지속적으로 반영하여 모델 업데이트\\n*   **피드백 수집:** 박대원의 실제 입사 결과와 모델 예측 결과를 비교하여 모델의 정확성 평가 및 개선\\n*   **모델 설명 가능성 확보:** 모델의 예측 근거를 설명할 수 있도록, 변수 중요도 분석, 모델 시각화 등을 활용\\n\\n**예측 모델의 장점:**\\n\\n*   **객관적인 평가:** 주관적인 판단을 배제하고, 데이터를 기반으로 객관적인 입사 가능성 예측\\n*   **맞춤형 전략 수립:** 개인의 강점과 약점을 파악하고, 목표 달성을 위한 구체적인 전략 제시\\n*   **효율적인 준비:** 시간과 노력을 효율적으로 활용하여, 삼일 입사 준비\\n\\n**예측 모델의 한계:**\\n\\n*   **데이터 의존성:** 모델의 정확도는 데이터의 품질과 양에 따라 달라짐\\n*   **예측 불확실성:** 미래는 예측하기 어려우며, 외부 요인 (경제 상황, 채용 시장 변화 등)에 따라 예측 결과가 달라질 수 있음\\n*   **개인적인 노력의 중요성:** 모델은 참고 자료일 뿐이며, 개인의 노력과 준비가 가장 중요함\\n\\n**결론:**\\n\\n이 모델은 박대원의 삼일 입사 가능성을 예측하기 위한 하나의 도구입니다. 모델의 결과를 참고하여, 개인의 상황에 맞는 전략을 수립하고, 꾸준히 노력한다면 2년 안에 삼일회계법인에 입사하는 목표를 달성할 수 있을 것입니다.' additional_kwargs={} response_metadata={'prompt_feedback': {'block_reason': 0, 'safety_ratings': []}, 'finish_reason': 'STOP', 'model_name': 'gemini-2.0-flash-lite', 'safety_ratings': []} id='run--3bbedad8-4f21-4797-b695-30ec350bf6d6-0' usage_metadata={'input_tokens': 33, 'output_tokens': 1671, 'total_tokens': 1704, 'input_token_details': {'cache_read': 0}}\n"
     ]
    }
   ],
   "source": [
    "from dotenv import load_dotenv\n",
    "from langchain_google_genai import ChatGoogleGenerativeAI\n",
    "\n",
    "# .env 파일에서 환경 변수 로드\n",
    "load_dotenv()\n",
    "\n",
    "# Google Gemini 설정\n",
    "gemini = ChatGoogleGenerativeAI(\n",
    "    model=\"gemini-2.0-flash-lite\"\n",
    ")\n",
    "\n",
    "# Google Gemini 상\n",
    "gemini_response = gemini.invoke('박대원이 2년 안에 삼일회계법인에 입사할 수 있을지 예측하는 모델을 제시하시오.')\n",
    "print('마법의 소라고동께서 가로되', gemini_response)"
   ]
  },
  {
   "cell_type": "code",
   "execution_count": null,
   "id": "d70ec369",
   "metadata": {},
   "outputs": [],
   "source": []
  },
  {
   "cell_type": "markdown",
   "id": "d9057669",
   "metadata": {},
   "source": [
    "## 1. 기본 구성 및 환경 설정\n",
    "\n",
    "필요한 라이브러리를 임포트하고 기본 설정을 구성합니다."
   ]
  },
  {
   "cell_type": "code",
   "execution_count": null,
   "id": "dd61bc91",
   "metadata": {},
   "outputs": [],
   "source": [
    "# 필요한 라이브러리 임포트\n",
    "import os\n",
    "from typing import List, Dict, Any\n",
    "\n",
    "import streamlit as st\n",
    "import google.generativeai as genai\n",
    "from langchain.agents import AgentExecutor\n",
    "from langchain.agents.format_scratchpad import format_log_to_str\n",
    "from langchain.agents.output_parsers import ReActSingleInputOutputParser\n",
    "from langchain.tools import Tool\n",
    "from langchain.memory import ConversationBufferMemory\n",
    "from langchain_core.messages import AIMessage, HumanMessage\n",
    "from langchain_mcp_adapters import JupyterMCPServer, MetadataMCPServer"
   ]
  },
  {
   "cell_type": "markdown",
   "id": "2975a43a",
   "metadata": {},
   "source": [
    "## 2. API 키 및 의존성 설정\n",
    "\n",
    "Gemini API 키를 설정하고 필요한 환경 변수를 구성합니다."
   ]
  },
  {
   "cell_type": "code",
   "execution_count": null,
   "id": "a757ffa2",
   "metadata": {},
   "outputs": [],
   "source": [
    "# Gemini API 키 설정\n",
    "os.environ[\"GOOGLE_API_KEY\"] = \"your-api-key\"  # 실제 API 키로 교체하세요\n",
    "genai.configure(api_key=os.environ[\"GOOGLE_API_KEY\"])\n",
    "\n",
    "# MCP 서버 초기화\n",
    "jupyter_server = JupyterMCPServer()\n",
    "metadata_server = MetadataMCPServer()"
   ]
  },
  {
   "cell_type": "markdown",
   "id": "f6e062ed",
   "metadata": {},
   "source": [
    "## 3. 데이터 분석 에이전트 구현\n",
    "\n",
    "DataAnalysisAgent 클래스를 구현하여 LLM, 도구, 메모리를 통합합니다."
   ]
  },
  {
   "cell_type": "code",
   "execution_count": null,
   "id": "fdbd0ac7",
   "metadata": {},
   "outputs": [],
   "source": [
    "class DataAnalysisAgent:\n",
    "    def __init__(self):\n",
    "        # 도구 설정\n",
    "        self.tools = [\n",
    "            Tool(\n",
    "                name=\"jupyter_execute\",\n",
    "                func=jupyter_server.execute,\n",
    "                description=\"주피터 노트북에서 코드를 실행합니다.\"\n",
    "            ),\n",
    "            Tool(\n",
    "                name=\"get_metadata\",\n",
    "                func=metadata_server.get_metadata,\n",
    "                description=\"팀 메타데이터를 조회합니다.\"\n",
    "            )\n",
    "        ]\n",
    "        \n",
    "        # 메모리 초기화\n",
    "        self.memory = ConversationBufferMemory(\n",
    "            memory_key=\"chat_history\",\n",
    "            return_messages=True\n",
    "        )\n",
    "        \n",
    "        # Gemini 모델 초기화\n",
    "        self.model = genai.GenerativeModel('gemini-2.0-flash-lite')\n",
    "        \n",
    "        # Agent 설정\n",
    "        self.agent = AgentExecutor(\n",
    "            llm=self.model,\n",
    "            tools=self.tools,\n",
    "            memory=self.memory,\n",
    "            verbose=True\n",
    "        )\n",
    "\n",
    "    def analyze(self, query: str) -> str:\n",
    "        try:\n",
    "            result = self.agent.run(query)\n",
    "            return result\n",
    "        except Exception as e:\n",
    "            return f\"분석 중 오류가 발생했습니다: {str(e)}\""
   ]
  },
  {
   "cell_type": "markdown",
   "id": "dd7bf1f7",
   "metadata": {},
   "source": [
    "## 4. 도구 및 메모리 사용 예제\n",
    "\n",
    "에이전트를 생성하고 간단한 분석 작업을 수행해봅니다."
   ]
  },
  {
   "cell_type": "code",
   "execution_count": null,
   "id": "52cf8e92",
   "metadata": {},
   "outputs": [],
   "source": [
    "# 에이전트 생성\n",
    "agent = DataAnalysisAgent()\n",
    "\n",
    "# 샘플 데이터 분석 요청\n",
    "query = \"sales_data.csv 파일의 처음 5행을 보여주고 기본 통계 정보를 분석해주세요.\"\n",
    "result = agent.analyze(query)\n",
    "print(result)"
   ]
  },
  {
   "cell_type": "markdown",
   "id": "dc7cf1e6",
   "metadata": {},
   "source": [
    "## 5. 유틸리티 함수 구현\n",
    "\n",
    "에러 처리와 결과 포맷팅을 위한 유틸리티 함수를 구현합니다."
   ]
  },
  {
   "cell_type": "code",
   "execution_count": null,
   "id": "14cf0116",
   "metadata": {},
   "outputs": [],
   "source": [
    "def format_analysis_result(result: str) -> str:\n",
    "    \"\"\"분석 결과를 포맷팅하는 유틸리티 함수\"\"\"\n",
    "    try:\n",
    "        # 결과 포맷팅 로직 구현\n",
    "        formatted_result = f\"분석 결과:\\n{'-' * 50}\\n{result}\\n{'-' * 50}\"\n",
    "        return formatted_result\n",
    "    except Exception as e:\n",
    "        return f\"결과 포맷팅 중 오류 발생: {str(e)}\"\n",
    "\n",
    "def log_error(error: Exception, query: str) -> None:\n",
    "    \"\"\"에러 로깅 유틸리티 함수\"\"\"\n",
    "    print(f\"에러 발생 - 쿼리: {query}\")\n",
    "    print(f\"에러 메시지: {str(error)}\")\n",
    "    # 추가적인 로깅 로직 구현"
   ]
  },
  {
   "cell_type": "markdown",
   "id": "f26ed3c7",
   "metadata": {},
   "source": [
    "## 6. 테스트 및 결과 확인\n",
    "\n",
    "구현된 에이전트의 동작을 테스트하고 결과를 확인합니다."
   ]
  },
  {
   "cell_type": "code",
   "execution_count": null,
   "id": "c35456d8",
   "metadata": {},
   "outputs": [],
   "source": [
    "# 테스트 쿼리 실행\n",
    "test_queries = [\n",
    "    \"매출 데이터의 월별 트렌드를 분석해주세요.\",\n",
    "    \"고객 세그먼트별 구매 패턴을 시각화해주세요.\",\n",
    "    \"제품 카테고리별 판매량 TOP 5를 보여주세요.\"\n",
    "]\n",
    "\n",
    "for query in test_queries:\n",
    "    try:\n",
    "        result = agent.analyze(query)\n",
    "        formatted_result = format_analysis_result(result)\n",
    "        print(formatted_result)\n",
    "    except Exception as e:\n",
    "        log_error(e, query)"
   ]
  }
 ],
 "metadata": {
  "kernelspec": {
   "display_name": ".venv",
   "language": "python",
   "name": "python3"
  },
  "language_info": {
   "codemirror_mode": {
    "name": "ipython",
    "version": 3
   },
   "file_extension": ".py",
   "mimetype": "text/x-python",
   "name": "python",
   "nbconvert_exporter": "python",
   "pygments_lexer": "ipython3",
   "version": "3.11.9"
  }
 },
 "nbformat": 4,
 "nbformat_minor": 5
}
